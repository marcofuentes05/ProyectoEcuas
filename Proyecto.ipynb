{
 "cells": [
  {
   "cell_type": "markdown",
   "metadata": {},
   "source": [
    "# Proyecto Final"
   ]
  },
  {
   "cell_type": "markdown",
   "metadata": {},
   "source": [
    "El problema que se trató de resolver es el de predecir la trayectoria de un sistema fisico conformado por dos péndulos de igual masa y longitud, acoplados por un resorte cuya constante de elasticidad es conocida. Usando el procedimiento de Lagrange en el sistema, se llegó al siguiente sistema de ecuaciones diferenciales:\n",
    "\n",
    "$$\n",
    "    mL^2\\ddot{\\theta} = -mgL\\sin\\theta - kL^2 \\cos\\theta (\\sin\\theta - \\sin\\phi)\\\\\n",
    "    mL^2\\ddot{\\phi} = -mgL\\sin\\phi - kL^2 \\sin\\phi \\cos\\phi + kL^2 \\sin\\theta \\cos\\phi\n",
    "$$\n",
    "\n",
    "El problema es que este sistema no es lineal, y por tanto encontrar una solución exacta es muy complicado. Sin embargo, puede reducirse a un sistema lineal si se suponen angulos pequeños, es decir, \n",
    " $$\n",
    "    \\theta \\approx 0,\\qquad \\sin\\theta \\approx \\theta,\\qquad \\cos\\theta \\approx 1 \\\\ \n",
    "    \\phi \\approx 0,\\qquad \\sin\\phi \\approx \\phi,\\qquad \\cos\\phi \\approx 1\n",
    " $$\n",
    "Entonces, el sistema queda reducido al siguiente:\n",
    "$$\n",
    "    \\ddot{\\theta} = \\theta \\left( \\frac{-g}{L} - \\frac{k}{m} \\right) + \\phi \\frac{k}{m}\\\\\n",
    "    \\ddot{\\phi} = \\phi \\left( \\frac{-g}{L} - \\frac{k}{m} \\right) + \\theta \\frac{k}{m}\\\\\n",
    "$$\n",
    "\n",
    "Para que se pueda utilizar el método de Runge-Kutta, es necesario que tengamos un sistema de 4 ecuaciones de orden 1. Entonces agregamos las variables mudas $\\dot{\\theta} = x$ y $\\dot{\\phi} = y  $ para que el sistema quede así: \n",
    "$$\n",
    "    \\dot{\\theta} = y\\\\\n",
    "    \\dot{y} = \\theta \\left( \\frac{-g}{L} - \\frac{k}{m} \\right) + \\phi \\frac{k}{m}\\\\\n",
    "    \\dot{\\phi} = x\\\\\n",
    "    \\dot{x} = \\phi \\left( \\frac{-g}{L} - \\frac{k}{m} \\right) + \\theta \\frac{k}{m}\\\\\n",
    "$$\n"
   ]
  }
 ],
 "metadata": {
  "kernelspec": {
   "display_name": "Python 3",
   "language": "python",
   "name": "python3"
  },
  "language_info": {
   "codemirror_mode": {
    "name": "ipython",
    "version": 3
   },
   "file_extension": ".py",
   "mimetype": "text/x-python",
   "name": "python",
   "nbconvert_exporter": "python",
   "pygments_lexer": "ipython3",
   "version": "3.7.3"
  }
 },
 "nbformat": 4,
 "nbformat_minor": 2
}
